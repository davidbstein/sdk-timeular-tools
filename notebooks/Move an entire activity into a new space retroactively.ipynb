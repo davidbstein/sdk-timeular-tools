{
 "cells": [
  {
   "cell_type": "markdown",
   "id": "bbff03db",
   "metadata": {},
   "source": [
    "# Mass-merge two activities\n",
    "\n",
    "This is a simple script that will take all activities of type \"A\" and relabel them as activities of type \"B\".\n",
    "\n",
    " 1. make a list of all activities and their IDs\n",
    " 2. build a dictionary of all the conversions you'd like to do\n",
    " 3. get a list of all time entries and covert the ones in the list\n",
    " 4. \\[optional\\] archive the (now unused) entries\n",
    " 5. \\[optional\\] complete the same steps for archived activity ids"
   ]
  },
  {
   "cell_type": "markdown",
   "id": "927cb49d",
   "metadata": {},
   "source": [
    "_If you have the repo but not the package, you need to be in the root directory_"
   ]
  },
  {
   "cell_type": "code",
   "execution_count": null,
   "id": "9b01d7b6",
   "metadata": {
    "scrolled": true
   },
   "outputs": [],
   "source": [
    "cd .."
   ]
  },
  {
   "cell_type": "code",
   "execution_count": null,
   "id": "2540d41f",
   "metadata": {},
   "outputs": [],
   "source": [
    "import os, json, time\n",
    "import datetime\n",
    "from timeular import timeular"
   ]
  },
  {
   "cell_type": "markdown",
   "id": "97dde7d1",
   "metadata": {},
   "source": [
    "Get the api key and secret on the [timeular account page](https://profile.timeular.com/#/app/account). There is no concept of an API app, just a per-user api token"
   ]
  },
  {
   "cell_type": "code",
   "execution_count": null,
   "id": "7ee745a2",
   "metadata": {},
   "outputs": [],
   "source": [
    "with open(\".env\") as f:\n",
    "    os.environ.update(json.load(f))\n",
    "\n",
    "api_key = os.environ.get(\"TIMEULAR_API_KEY\")\n",
    "api_secret = os.environ.get(\"TIMEULAR_API_SECRET\")"
   ]
  },
  {
   "cell_type": "code",
   "execution_count": null,
   "id": "a3c8224c",
   "metadata": {},
   "outputs": [],
   "source": [
    "t = timeular.TimeularSession(api_key, api_secret, no_edit_mode=False)\n",
    "# verbose=True will show all requests and more information for non-200 responses.\n",
    "# can be toggled using t._VERBOSE = True"
   ]
  },
  {
   "cell_type": "markdown",
   "id": "9f66d870",
   "metadata": {},
   "source": [
    "# 1. get all activities and their IDs"
   ]
  },
  {
   "cell_type": "code",
   "execution_count": null,
   "id": "5528d7cf",
   "metadata": {},
   "outputs": [],
   "source": [
    "spaces_by_id = {s['id']: s for s in t.list_spaces()}"
   ]
  },
  {
   "cell_type": "code",
   "execution_count": null,
   "id": "91177a9b",
   "metadata": {},
   "outputs": [],
   "source": [
    "activities_by_id = {a['id']: a for a in t.list_activities()}"
   ]
  },
  {
   "cell_type": "code",
   "execution_count": null,
   "id": "754b6420",
   "metadata": {},
   "outputs": [],
   "source": [
    "activities_sorted_by_space = sorted(activities_by_id.values(), key=lambda e: e[\"spaceId\"])"
   ]
  },
  {
   "cell_type": "code",
   "execution_count": null,
   "id": "c12def59",
   "metadata": {},
   "outputs": [],
   "source": [
    "cur_space = None\n",
    "print(\"## ACTIVITIES ##\\n\")\n",
    "for activity in activities_sorted_by_space:\n",
    "    space_name = spaces_by_id[activity['spaceId']]['name']\n",
    "    if space_name != cur_space:\n",
    "        cur_space = space_name\n",
    "        print(f\"\\n{space_name}\")\n",
    "    print(f\"\\t{activity['name']:.<45}{activity['id']}\")"
   ]
  },
  {
   "cell_type": "markdown",
   "id": "b70ef179",
   "metadata": {},
   "source": [
    "# 2. Create a dictionary with all the merges"
   ]
  },
  {
   "cell_type": "code",
   "execution_count": null,
   "id": "5d5180bc",
   "metadata": {
    "scrolled": false
   },
   "outputs": [],
   "source": [
    "original_id_to_new_id_map = {\n",
    "    1112690: 1149216,\n",
    "    1039873: 1149273,\n",
    "    997480:  1149199,\n",
    "    997479:  1149198,\n",
    "    828160:  1149212,\n",
    "    809893:  1149208,\n",
    "    794234:  1095713,\n",
    "    794230:  1149211,\n",
    "    794226:  1149200\n",
    "}"
   ]
  },
  {
   "cell_type": "markdown",
   "id": "1fcad9d6",
   "metadata": {},
   "source": [
    "# 3. Get a list of all the time entries"
   ]
  },
  {
   "cell_type": "code",
   "execution_count": null,
   "id": "51b650b2",
   "metadata": {
    "scrolled": true
   },
   "outputs": [],
   "source": [
    "entries = t.find_entries_in_range(datetime.datetime(2000,1,1), datetime.datetime.now())"
   ]
  },
  {
   "cell_type": "code",
   "execution_count": null,
   "id": "43280bcd",
   "metadata": {},
   "outputs": [],
   "source": [
    "unknown_ids = set()\n",
    "merge_count = 0\n",
    "for entry in entries:\n",
    "    a_id = int(entry['activityId'])\n",
    "    if False and a_id in original_id_to_new_id_map:\n",
    "        merge_count += 1\n",
    "        t.edit_entry(entry['id'], activity_id=original_id_to_new_id_map[a_id])\n",
    "        time.sleep(.2)\n",
    "    if a_id not in activities_by_id:\n",
    "        unknown_ids.add(a_id)\n",
    "print(f\"merged {merge_count} item. \\n encountered {len(unknown_ids)} archived activities.\")"
   ]
  },
  {
   "cell_type": "markdown",
   "id": "f525d1c7",
   "metadata": {},
   "source": [
    "## 4.\\[optional\\] archive the (now unused) activities"
   ]
  },
  {
   "cell_type": "code",
   "execution_count": null,
   "id": "9a3dc9c6",
   "metadata": {},
   "outputs": [],
   "source": [
    "for a in original_id_to_new_id_map.keys():\n",
    "    t.archive_activity(a)"
   ]
  },
  {
   "cell_type": "code",
   "execution_count": null,
   "id": "52b39cbb",
   "metadata": {},
   "outputs": [],
   "source": [
    "# quick table display hack\n",
    "from IPython.display import HTML, display\n",
    "def show_table(data):\n",
    "    display(HTML(f'''<table><tr><th>{\"</th><th>\".join(map(str,data[0]))}</th></tr>\n",
    "    <tr>{\"</tr><tr>\".join([f\"<td>{'</td><td>'.join(map(str,row))}</td>\" for row in data[1:]])}</tr></table>'''))"
   ]
  },
  {
   "cell_type": "markdown",
   "id": "4264d607",
   "metadata": {},
   "source": [
    "## 5. \\[optional\\] discover any archived activities still in use and clear them out\n",
    "\n",
    "Unfortunately there's no way to get archived activity information using the public API (reversing the \"non-public\" api is pretty guessable but maybe unstable?).\n",
    "\n",
    "Just make a list of entries using archived activities (sorted by activity and date), and decide if there's any worth merging"
   ]
  },
  {
   "cell_type": "code",
   "execution_count": null,
   "id": "2716cd23",
   "metadata": {},
   "outputs": [],
   "source": [
    "# i've found an iteractive approach helps, so here's a line to reload entries\n",
    "entries = t.find_entries_in_range(datetime.datetime(2000,1,1), datetime.datetime.now())"
   ]
  },
  {
   "cell_type": "code",
   "execution_count": null,
   "id": "835c09c7",
   "metadata": {
    "scrolled": true
   },
   "outputs": [],
   "source": [
    "table = [['activity ID', \"start time (UTC)\", 'notes or comments']]\n",
    "for entry in sorted(entries, key=lambda x: (x['activityId'], x['duration']['startedAt'])): \n",
    "    if entry['activityId'] not in activities_by_id:\n",
    "        table.append([entry['activityId'],entry['duration']['startedAt'], entry['note']['text'] or ''])\n",
    "show_table(table)"
   ]
  },
  {
   "cell_type": "code",
   "execution_count": null,
   "id": "f160dbed",
   "metadata": {},
   "outputs": [],
   "source": [
    "achived_to_unarchived_map = {\n",
    "    830198: 998703,\n",
    "}\n",
    "for entry in entries:\n",
    "    a_id = int(entry['activityId'])\n",
    "    if a_id in achived_to_unarchived_map:\n",
    "        print(entry['note']['text'], entry['duration']['startedAt'])\n",
    "        t.edit_entry(entry['id'], activity_id=achived_to_unarchived_map[a_id])\n",
    "        time.sleep(.2)"
   ]
  }
 ],
 "metadata": {
  "kernelspec": {
   "display_name": "Python 3",
   "language": "python",
   "name": "python3"
  },
  "language_info": {
   "codemirror_mode": {
    "name": "ipython",
    "version": 3
   },
   "file_extension": ".py",
   "mimetype": "text/x-python",
   "name": "python",
   "nbconvert_exporter": "python",
   "pygments_lexer": "ipython3",
   "version": "3.9.2"
  }
 },
 "nbformat": 4,
 "nbformat_minor": 5
}
